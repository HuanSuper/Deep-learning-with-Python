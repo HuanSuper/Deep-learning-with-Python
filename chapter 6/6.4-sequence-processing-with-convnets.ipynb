{
 "cells": [
  {
   "cell_type": "code",
   "execution_count": 1,
   "metadata": {
    "ExecuteTime": {
     "end_time": "2019-03-10T02:28:07.002232Z",
     "start_time": "2019-03-10T02:28:06.977231Z"
    }
   },
   "outputs": [
    {
     "data": {
      "text/plain": [
       "'\\ncreated on 10th Mar 2019\\n\\n@author: Huan Zheng\\n'"
      ]
     },
     "execution_count": 1,
     "metadata": {},
     "output_type": "execute_result"
    }
   ],
   "source": [
    "\"\"\"\n",
    "created on 10th Mar 2019\n",
    "\n",
    "@author: Huan Zheng\n",
    "\"\"\"\n",
    "# 用卷积神经网络处理序列"
   ]
  },
  {
   "cell_type": "markdown",
   "metadata": {},
   "source": [
    "# 理解序列数据的以为卷积\n",
    "# 序列数据的以为池化\n",
    "# 实现以为卷积神经网络\n",
    "## 准备IMDB数据"
   ]
  },
  {
   "cell_type": "code",
   "execution_count": 1,
   "metadata": {
    "ExecuteTime": {
     "end_time": "2019-03-10T02:58:12.463499Z",
     "start_time": "2019-03-10T02:57:58.354692Z"
    }
   },
   "outputs": [
    {
     "name": "stderr",
     "output_type": "stream",
     "text": [
      "Using TensorFlow backend.\n"
     ]
    },
    {
     "name": "stdout",
     "output_type": "stream",
     "text": [
      "Loading data...\n",
      "25000 train sequences\n",
      "25000 test sequences\n",
      "Pad sequences (samples x time)\n",
      "x_train shape: (25000, 500)\n",
      "x_test shape: (25000, 500)\n"
     ]
    }
   ],
   "source": [
    "from keras.datasets import imdb\n",
    "from keras.preprocessing import sequence\n",
    "\n",
    "max_features = 10000  # number of words to consider as features\n",
    "max_len = 500  # cut texts after this number of words (among top max_features most common words)\n",
    "\n",
    "print('Loading data...')\n",
    "(x_train, y_train), (x_test, y_test) = imdb.load_data(num_words=max_features)\n",
    "print(len(x_train), 'train sequences')\n",
    "print(len(x_test), 'test sequences')\n",
    "\n",
    "print('Pad sequences (samples x time)')\n",
    "x_train = sequence.pad_sequences(x_train, maxlen=max_len)\n",
    "x_test = sequence.pad_sequences(x_test, maxlen=max_len)\n",
    "print('x_train shape:', x_train.shape)\n",
    "print('x_test shape:', x_test.shape)"
   ]
  },
  {
   "cell_type": "markdown",
   "metadata": {},
   "source": [
    "## 在IMDB数据上训练并评估一个简单的以为卷积神经网络"
   ]
  },
  {
   "cell_type": "code",
   "execution_count": 12,
   "metadata": {
    "ExecuteTime": {
     "end_time": "2019-03-10T03:09:07.774980Z",
     "start_time": "2019-03-10T03:07:58.660027Z"
    },
    "collapsed": true
   },
   "outputs": [
    {
     "name": "stdout",
     "output_type": "stream",
     "text": [
      "_________________________________________________________________\n",
      "Layer (type)                 Output Shape              Param #   \n",
      "=================================================================\n",
      "embedding_7 (Embedding)      (None, 500, 128)          1280000   \n",
      "_________________________________________________________________\n",
      "conv1d_10 (Conv1D)           (None, 494, 32)           28704     \n",
      "_________________________________________________________________\n",
      "max_pooling1d_5 (MaxPooling1 (None, 98, 32)            0         \n",
      "_________________________________________________________________\n",
      "conv1d_11 (Conv1D)           (None, 92, 32)            7200      \n",
      "_________________________________________________________________\n",
      "global_max_pooling1d_5 (Glob (None, 32)                0         \n",
      "_________________________________________________________________\n",
      "dense_3 (Dense)              (None, 1)                 33        \n",
      "=================================================================\n",
      "Total params: 1,315,937\n",
      "Trainable params: 1,315,937\n",
      "Non-trainable params: 0\n",
      "_________________________________________________________________\n",
      "Train on 20000 samples, validate on 5000 samples\n",
      "Epoch 1/10\n",
      "20000/20000 [==============================] - 8s 380us/step - loss: 0.6930 - acc: 0.5384 - val_loss: 0.6837 - val_acc: 0.5732\n",
      "Epoch 2/10\n",
      "20000/20000 [==============================] - 7s 343us/step - loss: 0.6618 - acc: 0.6625 - val_loss: 0.6671 - val_acc: 0.6128\n",
      "Epoch 3/10\n",
      "20000/20000 [==============================] - 7s 342us/step - loss: 0.6200 - acc: 0.7537 - val_loss: 0.6117 - val_acc: 0.7268\n",
      "Epoch 4/10\n",
      "20000/20000 [==============================] - 7s 332us/step - loss: 0.5321 - acc: 0.7978 - val_loss: 0.5134 - val_acc: 0.7654\n",
      "Epoch 5/10\n",
      "20000/20000 [==============================] - 7s 330us/step - loss: 0.4288 - acc: 0.8352 - val_loss: 0.4632 - val_acc: 0.8242\n",
      "Epoch 6/10\n",
      "20000/20000 [==============================] - 7s 331us/step - loss: 0.3627 - acc: 0.8633 - val_loss: 0.4595 - val_acc: 0.8280\n",
      "Epoch 7/10\n",
      "20000/20000 [==============================] - 7s 332us/step - loss: 0.3136 - acc: 0.8736 - val_loss: 0.4494 - val_acc: 0.8336\n",
      "Epoch 8/10\n",
      "20000/20000 [==============================] - 7s 332us/step - loss: 0.2764 - acc: 0.8756 - val_loss: 0.4246 - val_acc: 0.8398\n",
      "Epoch 9/10\n",
      "20000/20000 [==============================] - 7s 330us/step - loss: 0.2462 - acc: 0.8679 - val_loss: 0.4484 - val_acc: 0.8154\n",
      "Epoch 10/10\n",
      "20000/20000 [==============================] - 7s 342us/step - loss: 0.2229 - acc: 0.8443 - val_loss: 0.4674 - val_acc: 0.7896\n"
     ]
    }
   ],
   "source": [
    "from keras.models import Sequential\n",
    "from keras import layers\n",
    "from keras.optimizers import RMSprop\n",
    "\n",
    "model = Sequential()\n",
    "model.add(layers.Embedding(max_features, 128, input_length=max_len))\n",
    "model.add(layers.Conv1D(32, 7, activation='relu'))\n",
    "model.add(layers.MaxPool1D(5))\n",
    "model.add(layers.Conv1D(32, 7, activation='relu'))\n",
    "model.add(layers.GlobalMaxPool1D())\n",
    "model.add(layers.Dense(1))\n",
    "\n",
    "model.summary()\n",
    "\n",
    "model.compile(optimizer=RMSprop(lr=1e-4), loss='binary_crossentropy', metrics=['acc'])\n",
    "history = model.fit(x_train, y_train, epochs=10, batch_size=128, validation_split=0.2)"
   ]
  },
  {
   "cell_type": "markdown",
   "metadata": {},
   "source": [
    "## 结果可视化"
   ]
  },
  {
   "cell_type": "code",
   "execution_count": 13,
   "metadata": {
    "ExecuteTime": {
     "end_time": "2019-03-10T03:09:08.357014Z",
     "start_time": "2019-03-10T03:09:07.849985Z"
    },
    "collapsed": true
   },
   "outputs": [
    {
     "data": {
      "image/png": "[encoded data removed]",
      "text/plain": [
       "<Figure size 432x288 with 1 Axes>"
      ]
     },
     "metadata": {},
     "output_type": "display_data"
    },
    {
     "data": {
      "image/png": "[encoded data removed]",
      "text/plain": [
       "<Figure size 432x288 with 1 Axes>"
      ]
     },
     "metadata": {},
     "output_type": "display_data"
    }
   ],
   "source": [
    "import matplotlib.pyplot as plt\n",
    "%matplotlib inline\n",
    "\n",
    "acc = history.history['acc']\n",
    "val_acc = history.history['val_acc']\n",
    "loss = history.history['loss']\n",
    "val_loss = history.history['val_loss']\n",
    "\n",
    "epochs = range(len(acc))\n",
    "\n",
    "plt.plot(epochs, acc, 'bo', label='Training acc')\n",
    "plt.plot(epochs, val_acc, 'b', label='Validation acc')\n",
    "plt.title('Training and validation accuracy')\n",
    "plt.legend()\n",
    "\n",
    "plt.figure()\n",
    "\n",
    "plt.plot(epochs, loss, 'bo', label='Training loss')\n",
    "plt.plot(epochs, val_loss, 'b', label='Validation loss')\n",
    "plt.title('Training and validation loss')\n",
    "plt.legend()\n",
    "\n",
    "plt.show()"
   ]
  },
  {
   "cell_type": "markdown",
   "metadata": {},
   "source": [
    "# 结合CNN和RNN来处理长序列"
   ]
  },
  {
   "cell_type": "markdown",
   "metadata": {
    "ExecuteTime": {
     "end_time": "2019-03-10T03:11:03.169581Z",
     "start_time": "2019-03-10T03:11:03.163580Z"
    },
    "heading_collapsed": true
   },
   "source": [
    "## 数据准备"
   ]
  },
  {
   "cell_type": "code",
   "execution_count": 15,
   "metadata": {
    "ExecuteTime": {
     "end_time": "2019-03-10T03:11:41.515774Z",
     "start_time": "2019-03-10T03:11:35.143409Z"
    },
    "hidden": true
   },
   "outputs": [],
   "source": [
    "# We reuse the following variables defined in the last section:\n",
    "# float_data, train_gen, val_gen, val_steps\n",
    "\n",
    "import os\n",
    "import numpy as np\n",
    "\n",
    "fname = 'jena_climate_2009_2016.csv'\n",
    "\n",
    "f = open(fname)\n",
    "data = f.read()\n",
    "f.close()\n",
    "\n",
    "lines = data.split('\\n')\n",
    "header = lines[0].split(',')\n",
    "lines = lines[1:]\n",
    "\n",
    "float_data = np.zeros((len(lines), len(header) - 1))\n",
    "for i, line in enumerate(lines):\n",
    "    values = [float(x) for x in line.split(',')[1:]]\n",
    "    float_data[i, :] = values\n",
    "    \n",
    "mean = float_data[:200000].mean(axis=0)\n",
    "float_data -= mean\n",
    "std = float_data[:200000].std(axis=0)\n",
    "float_data /= std\n",
    "\n",
    "def generator(data, lookback, delay, min_index, max_index,\n",
    "              shuffle=False, batch_size=128, step=6):\n",
    "    if max_index is None:\n",
    "        max_index = len(data) - delay - 1\n",
    "    i = min_index + lookback\n",
    "    while 1:\n",
    "        if shuffle:\n",
    "            rows = np.random.randint(\n",
    "                min_index + lookback, max_index, size=batch_size)\n",
    "        else:\n",
    "            if i + batch_size >= max_index:\n",
    "                i = min_index + lookback\n",
    "            rows = np.arange(i, min(i + batch_size, max_index))\n",
    "            i += len(rows)\n",
    "\n",
    "        samples = np.zeros((len(rows),\n",
    "                           lookback // step,\n",
    "                           data.shape[-1]))\n",
    "        targets = np.zeros((len(rows),))\n",
    "        for j, row in enumerate(rows):\n",
    "            indices = range(rows[j] - lookback, rows[j], step)\n",
    "            samples[j] = data[indices]\n",
    "            targets[j] = data[rows[j] + delay][1]\n",
    "        yield samples, targets\n",
    "        \n",
    "lookback = 1440\n",
    "step = 6\n",
    "delay = 144\n",
    "batch_size = 128\n",
    "\n",
    "train_gen = generator(float_data,\n",
    "                      lookback=lookback,\n",
    "                      delay=delay,\n",
    "                      min_index=0,\n",
    "                      max_index=200000,\n",
    "                      shuffle=True,\n",
    "                      step=step, \n",
    "                      batch_size=batch_size)\n",
    "val_gen = generator(float_data,\n",
    "                    lookback=lookback,\n",
    "                    delay=delay,\n",
    "                    min_index=200001,\n",
    "                    max_index=300000,\n",
    "                    step=step,\n",
    "                    batch_size=batch_size)\n",
    "test_gen = generator(float_data,\n",
    "                     lookback=lookback,\n",
    "                     delay=delay,\n",
    "                     min_index=300001,\n",
    "                     max_index=None,\n",
    "                     step=step,\n",
    "                     batch_size=batch_size)\n",
    "\n",
    "# This is how many steps to draw from `val_gen`\n",
    "# in order to see the whole validation set:\n",
    "val_steps = (300000 - 200001 - lookback) // batch_size\n",
    "\n",
    "# This is how many steps to draw from `test_gen`\n",
    "# in order to see the whole test set:\n",
    "test_steps = (len(float_data) - 300001 - lookback) // batch_size"
   ]
  },
  {
   "cell_type": "markdown",
   "metadata": {},
   "source": [
    "## 在耶拿天气数据上训练一个以为卷积神经网络并评估"
   ]
  },
  {
   "cell_type": "code",
   "execution_count": 18,
   "metadata": {
    "ExecuteTime": {
     "end_time": "2019-03-10T03:18:16.743380Z",
     "start_time": "2019-03-10T03:17:20.121141Z"
    },
    "collapsed": true
   },
   "outputs": [
    {
     "name": "stdout",
     "output_type": "stream",
     "text": [
      "Epoch 1/20\n",
      "100/100 [==============================] - 3s 34ms/step - loss: 0.4798 - val_loss: 0.3910\n",
      "Epoch 2/20\n",
      "100/100 [==============================] - 3s 26ms/step - loss: 0.4280 - val_loss: 0.3417\n",
      "Epoch 3/20\n",
      "100/100 [==============================] - 3s 29ms/step - loss: 0.4040 - val_loss: 0.5855\n",
      "Epoch 4/20\n",
      "100/100 [==============================] - 3s 28ms/step - loss: 0.3954 - val_loss: 0.4712\n",
      "Epoch 5/20\n",
      "100/100 [==============================] - 3s 27ms/step - loss: 0.3829 - val_loss: 0.4860\n",
      "Epoch 6/20\n",
      "100/100 [==============================] - 3s 27ms/step - loss: 0.3760 - val_loss: 0.5053\n",
      "Epoch 7/20\n",
      "100/100 [==============================] - 3s 29ms/step - loss: 0.3607 - val_loss: 0.6339\n",
      "Epoch 8/20\n",
      "100/100 [==============================] - 3s 31ms/step - loss: 0.3584 - val_loss: 0.4914\n",
      "Epoch 9/20\n",
      "100/100 [==============================] - 3s 29ms/step - loss: 0.3539 - val_loss: 0.4444\n",
      "Epoch 10/20\n",
      "100/100 [==============================] - 3s 30ms/step - loss: 0.3495 - val_loss: 0.4355\n",
      "Epoch 11/20\n",
      "100/100 [==============================] - 3s 28ms/step - loss: 0.3419 - val_loss: 0.4645\n",
      "Epoch 12/20\n",
      "100/100 [==============================] - 3s 27ms/step - loss: 0.3387 - val_loss: 0.4608\n",
      "Epoch 13/20\n",
      "100/100 [==============================] - 3s 26ms/step - loss: 0.3288 - val_loss: 0.4026\n",
      "Epoch 14/20\n",
      "100/100 [==============================] - 3s 26ms/step - loss: 0.3343 - val_loss: 0.4205\n",
      "Epoch 15/20\n",
      "100/100 [==============================] - 3s 27ms/step - loss: 0.3238 - val_loss: 0.4387\n",
      "Epoch 16/20\n",
      "100/100 [==============================] - 3s 27ms/step - loss: 0.3165 - val_loss: 0.5875\n",
      "Epoch 17/20\n",
      "100/100 [==============================] - 3s 26ms/step - loss: 0.3178 - val_loss: 0.4068\n",
      "Epoch 18/20\n",
      "100/100 [==============================] - 3s 27ms/step - loss: 0.3156 - val_loss: 0.5377\n",
      "Epoch 19/20\n",
      "100/100 [==============================] - 3s 26ms/step - loss: 0.3116 - val_loss: 0.4458\n",
      "Epoch 20/20\n",
      "100/100 [==============================] - 3s 27ms/step - loss: 0.3076 - val_loss: 0.5273\n"
     ]
    }
   ],
   "source": [
    "from keras.models import Sequential\n",
    "from keras import layers\n",
    "from keras.optimizers import RMSprop\n",
    "\n",
    "model = Sequential()\n",
    "model.add(layers.Conv1D(32, 5, activation='relu', input_shape=(None, float_data.shape[-1])))\n",
    "model.add(layers.MaxPool1D(3))\n",
    "model.add(layers.Conv1D(32, 5, activation='relu'))\n",
    "model.add(layers.MaxPool1D(3))\n",
    "model.add(layers.Conv1D(32, 5, activation='relu'))\n",
    "model.add(layers.GlobalMaxPool1D())\n",
    "model.add(layers.Dense(1))\n",
    "\n",
    "model.compile(optimizer=RMSprop(), loss='mae')\n",
    "history = model.fit_generator(train_gen, steps_per_epoch=100, epochs=20, validation_data=val_gen, validation_steps=25)"
   ]
  },
  {
   "cell_type": "markdown",
   "metadata": {},
   "source": [
    "## 结果可视化"
   ]
  },
  {
   "cell_type": "code",
   "execution_count": 19,
   "metadata": {
    "ExecuteTime": {
     "end_time": "2019-03-10T03:18:35.107430Z",
     "start_time": "2019-03-10T03:18:34.866416Z"
    }
   },
   "outputs": [
    {
     "data": {
      "image/png": "[encoded data removed]",
      "text/plain": [
       "<Figure size 432x288 with 1 Axes>"
      ]
     },
     "metadata": {},
     "output_type": "display_data"
    }
   ],
   "source": [
    "import matplotlib.pyplot as plt\n",
    "\n",
    "loss = history.history['loss']\n",
    "val_loss = history.history['val_loss']\n",
    "\n",
    "epochs = range(len(loss))\n",
    "\n",
    "plt.figure()\n",
    "\n",
    "plt.plot(epochs, loss, 'bo', label='Training loss')\n",
    "plt.plot(epochs, val_loss, 'b', label='Validation loss')\n",
    "plt.title('Training and validation loss')\n",
    "plt.legend()\n",
    "\n",
    "plt.show()"
   ]
  },
  {
   "cell_type": "markdown",
   "metadata": {},
   "source": [
    "## 为耶拿数据集准备更高分辨率的数据生成器"
   ]
  },
  {
   "cell_type": "code",
   "execution_count": 22,
   "metadata": {
    "ExecuteTime": {
     "end_time": "2019-03-10T03:24:02.615162Z",
     "start_time": "2019-03-10T03:24:02.601162Z"
    }
   },
   "outputs": [],
   "source": [
    "step = 3\n",
    "lookback = 720\n",
    "delay = 144\n",
    "\n",
    "train_gen = generator(float_data, lookback=lookback, delay=delay, min_index=0, max_index=200000, shuffle=True, step=step)\n",
    "val_gen = generator(float_data, lookback=lookback, delay=delay, min_index=200001, max_index=300000, shuffle=True, step=step)\n",
    "test_gen = generator(float_data, lookback=lookback, delay=delay, min_index=300001, max_index=None, shuffle=True, step=step)\n",
    "\n",
    "val_steps = (300000 - 200001 - lookback) // batch_size\n",
    "test_steps = (len(float_data) - 300001 - lookback) // batch_size"
   ]
  },
  {
   "cell_type": "markdown",
   "metadata": {},
   "source": [
    "## 结合以为卷积基和GRU层的模型"
   ]
  },
  {
   "cell_type": "code",
   "execution_count": 24,
   "metadata": {
    "ExecuteTime": {
     "end_time": "2019-03-10T03:35:24.186146Z",
     "start_time": "2019-03-10T03:26:29.222548Z"
    }
   },
   "outputs": [
    {
     "name": "stdout",
     "output_type": "stream",
     "text": [
      "Epoch 1/10\n",
      "100/100 [==============================] - 55s 549ms/step - loss: 0.3776 - val_loss: 0.3173\n",
      "Epoch 2/10\n",
      "100/100 [==============================] - 53s 531ms/step - loss: 0.3403 - val_loss: 0.2898\n",
      "Epoch 3/10\n",
      "100/100 [==============================] - 53s 528ms/step - loss: 0.3288 - val_loss: 0.2927\n",
      "Epoch 4/10\n",
      "100/100 [==============================] - 53s 527ms/step - loss: 0.3196 - val_loss: 0.2803\n",
      "Epoch 5/10\n",
      "100/100 [==============================] - 53s 532ms/step - loss: 0.3169 - val_loss: 0.2936\n",
      "Epoch 6/10\n",
      "100/100 [==============================] - 53s 527ms/step - loss: 0.3161 - val_loss: 0.2812\n",
      "Epoch 7/10\n",
      "100/100 [==============================] - 53s 534ms/step - loss: 0.3092 - val_loss: 0.2935\n",
      "Epoch 8/10\n",
      "100/100 [==============================] - 53s 530ms/step - loss: 0.3070 - val_loss: 0.2745\n",
      "Epoch 9/10\n",
      "100/100 [==============================] - 53s 529ms/step - loss: 0.3024 - val_loss: 0.3003\n",
      "Epoch 10/10\n",
      "100/100 [==============================] - 53s 532ms/step - loss: 0.2965 - val_loss: 0.2748\n"
     ]
    }
   ],
   "source": [
    "from keras.models import Sequential\n",
    "from keras import layers\n",
    "from keras.optimizers import RMSprop\n",
    "\n",
    "model = Sequential()\n",
    "model.add(layers.Conv1D(32, 5, activation='relu', input_shape=(None, float_data.shape[-1])))\n",
    "model.add(layers.MaxPool1D(3))\n",
    "model.add(layers.Conv1D(32, 5, activation='relu'))\n",
    "model.add(layers.GRU(32, dropout=0.1, recurrent_dropout=0.5))\n",
    "model.add(layers.Dense(1))\n",
    "\n",
    "model.compile(optimizer=RMSprop(), loss='mae')\n",
    "history = model.fit_generator(train_gen, steps_per_epoch=100, epochs=10, validation_data=val_gen, validation_steps=25)"
   ]
  },
  {
   "cell_type": "markdown",
   "metadata": {},
   "source": [
    "## 结果可视化"
   ]
  },
  {
   "cell_type": "code",
   "execution_count": 25,
   "metadata": {
    "ExecuteTime": {
     "end_time": "2019-03-10T03:36:10.966822Z",
     "start_time": "2019-03-10T03:36:10.737809Z"
    }
   },
   "outputs": [
    {
     "data": {
      "image/png": "[encoded data removed]",
      "text/plain": [
       "<Figure size 432x288 with 1 Axes>"
      ]
     },
     "metadata": {},
     "output_type": "display_data"
    }
   ],
   "source": [
    "loss = history.history['loss']\n",
    "val_loss = history.history['val_loss']\n",
    "\n",
    "epochs = range(len(loss))\n",
    "\n",
    "plt.figure()\n",
    "\n",
    "plt.plot(epochs, loss, 'bo', label='Training loss')\n",
    "plt.plot(epochs, val_loss, 'b', label='Validation loss')\n",
    "plt.title('Training and validation loss')\n",
    "plt.legend()\n",
    "\n",
    "plt.show()"
   ]
  },
  {
   "cell_type": "code",
   "execution_count": null,
   "metadata": {},
   "outputs": [],
   "source": []
  }
 ],
 "metadata": {
  "kernelspec": {
   "display_name": "Python 3",
   "language": "python",
   "name": "python3"
  },
  "language_info": {
   "codemirror_mode": {
    "name": "ipython",
    "version": 3
   },
   "file_extension": ".py",
   "mimetype": "text/x-python",
   "name": "python",
   "nbconvert_exporter": "python",
   "pygments_lexer": "ipython3",
   "version": "3.6.8"
  },
  "toc": {
   "base_numbering": 1,
   "nav_menu": {},
   "number_sections": true,
   "sideBar": true,
   "skip_h1_title": false,
   "title_cell": "Table of Contents",
   "title_sidebar": "Contents",
   "toc_cell": false,
   "toc_position": {},
   "toc_section_display": true,
   "toc_window_display": false
  },
  "varInspector": {
   "cols": {
    "lenName": 16,
    "lenType": 16,
    "lenVar": 40
   },
   "kernels_config": {
    "python": {
     "delete_cmd_postfix": "",
     "delete_cmd_prefix": "del ",
     "library": "var_list.py",
     "varRefreshCmd": "print(var_dic_list())"
    },
    "r": {
     "delete_cmd_postfix": ") ",
     "delete_cmd_prefix": "rm(",
     "library": "var_list.r",
     "varRefreshCmd": "cat(var_dic_list()) "
    }
   },
   "types_to_exclude": [
    "module",
    "function",
    "builtin_function_or_method",
    "instance",
    "_Feature"
   ],
   "window_display": false
  }
 },
 "nbformat": 4,
 "nbformat_minor": 2
}
