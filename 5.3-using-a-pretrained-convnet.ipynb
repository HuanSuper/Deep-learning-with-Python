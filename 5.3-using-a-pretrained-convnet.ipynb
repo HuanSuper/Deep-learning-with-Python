{
 "cells": [
  {
   "cell_type": "code",
   "execution_count": 1,
   "metadata": {
    "ExecuteTime": {
     "end_time": "2019-02-02T12:13:20.626643Z",
     "start_time": "2019-02-02T12:13:20.598641Z"
    }
   },
   "outputs": [
    {
     "data": {
      "text/plain": [
       "'\\ncreated on 2 Feb 2019\\n\\n@author: Super Huan\\n'"
      ]
     },
     "execution_count": 1,
     "metadata": {},
     "output_type": "execute_result"
    }
   ],
   "source": [
    "\"\"\"\n",
    "created on 2 Feb 2019\n",
    "\n",
    "@author: Super Huan\n",
    "\"\"\"\n"
   ]
  },
  {
   "cell_type": "code",
   "execution_count": 1,
   "metadata": {
    "ExecuteTime": {
     "end_time": "2019-02-03T11:56:44.751846Z",
     "start_time": "2019-02-03T11:56:40.872624Z"
    }
   },
   "outputs": [
    {
     "name": "stderr",
     "output_type": "stream",
     "text": [
      "F:\\Anaconda\\Anaconda3.5\\lib\\site-packages\\h5py\\__init__.py:36: FutureWarning: Conversion of the second argument of issubdtype from `float` to `np.floating` is deprecated. In future, it will be treated as `np.float64 == np.dtype(float).type`.\n",
      "  from ._conv import register_converters as _register_converters\n",
      "Using TensorFlow backend.\n"
     ]
    }
   ],
   "source": [
    "from keras.applications import VGG16\n",
    "import warnings\n",
    "warnings.filterwarnings('ignore')"
   ]
  },
  {
   "cell_type": "code",
   "execution_count": 2,
   "metadata": {
    "ExecuteTime": {
     "end_time": "2019-02-03T11:56:50.136154Z",
     "start_time": "2019-02-03T11:56:45.973916Z"
    }
   },
   "outputs": [],
   "source": [
    "conv_base = VGG16(weights='imagenet', include_top=False, input_shape=(150, 150, 3))\n",
    "\n",
    "# weights 指定模型初始化的权重检查点\n",
    "# include_top 制定模型最后是否包含密集连接分类器。默认的情况下，这个密集连接分类器对应于ImageNet的1000个类别。\n",
    "# 因为我们打算使用自己的密集连接分类器所以不需要包含它\n",
    "# input_shape 输入张量的形状"
   ]
  },
  {
   "cell_type": "code",
   "execution_count": 3,
   "metadata": {
    "ExecuteTime": {
     "end_time": "2019-02-03T11:56:51.987260Z",
     "start_time": "2019-02-03T11:56:51.942257Z"
    }
   },
   "outputs": [
    {
     "name": "stdout",
     "output_type": "stream",
     "text": [
      "_________________________________________________________________\n",
      "Layer (type)                 Output Shape              Param #   \n",
      "=================================================================\n",
      "input_1 (InputLayer)         (None, 150, 150, 3)       0         \n",
      "_________________________________________________________________\n",
      "block1_conv1 (Conv2D)        (None, 150, 150, 64)      1792      \n",
      "_________________________________________________________________\n",
      "block1_conv2 (Conv2D)        (None, 150, 150, 64)      36928     \n",
      "_________________________________________________________________\n",
      "block1_pool (MaxPooling2D)   (None, 75, 75, 64)        0         \n",
      "_________________________________________________________________\n",
      "block2_conv1 (Conv2D)        (None, 75, 75, 128)       73856     \n",
      "_________________________________________________________________\n",
      "block2_conv2 (Conv2D)        (None, 75, 75, 128)       147584    \n",
      "_________________________________________________________________\n",
      "block2_pool (MaxPooling2D)   (None, 37, 37, 128)       0         \n",
      "_________________________________________________________________\n",
      "block3_conv1 (Conv2D)        (None, 37, 37, 256)       295168    \n",
      "_________________________________________________________________\n",
      "block3_conv2 (Conv2D)        (None, 37, 37, 256)       590080    \n",
      "_________________________________________________________________\n",
      "block3_conv3 (Conv2D)        (None, 37, 37, 256)       590080    \n",
      "_________________________________________________________________\n",
      "block3_pool (MaxPooling2D)   (None, 18, 18, 256)       0         \n",
      "_________________________________________________________________\n",
      "block4_conv1 (Conv2D)        (None, 18, 18, 512)       1180160   \n",
      "_________________________________________________________________\n",
      "block4_conv2 (Conv2D)        (None, 18, 18, 512)       2359808   \n",
      "_________________________________________________________________\n",
      "block4_conv3 (Conv2D)        (None, 18, 18, 512)       2359808   \n",
      "_________________________________________________________________\n",
      "block4_pool (MaxPooling2D)   (None, 9, 9, 512)         0         \n",
      "_________________________________________________________________\n",
      "block5_conv1 (Conv2D)        (None, 9, 9, 512)         2359808   \n",
      "_________________________________________________________________\n",
      "block5_conv2 (Conv2D)        (None, 9, 9, 512)         2359808   \n",
      "_________________________________________________________________\n",
      "block5_conv3 (Conv2D)        (None, 9, 9, 512)         2359808   \n",
      "_________________________________________________________________\n",
      "block5_pool (MaxPooling2D)   (None, 4, 4, 512)         0         \n",
      "=================================================================\n",
      "Total params: 14,714,688\n",
      "Trainable params: 14,714,688\n",
      "Non-trainable params: 0\n",
      "_________________________________________________________________\n"
     ]
    }
   ],
   "source": [
    "conv_base.summary()"
   ]
  },
  {
   "cell_type": "markdown",
   "metadata": {},
   "source": [
    "# 不适用数据增强的快速特征提取"
   ]
  },
  {
   "cell_type": "code",
   "execution_count": 5,
   "metadata": {
    "ExecuteTime": {
     "end_time": "2019-02-03T12:01:16.422385Z",
     "start_time": "2019-02-03T12:01:16.413384Z"
    }
   },
   "outputs": [],
   "source": [
    "# 使用有预练的卷积基特征提取\n",
    "import os\n",
    "import numpy as np\n",
    "from keras.preprocessing.image import ImageDataGenerator\n",
    "\n",
    "base_dir = 'F:/PythonDemo/BooksMyDemo/Deep Learning with Python/chapter 5/dogs_vs_cats_small'\n",
    "train_dir = os.path.join(base_dir, 'train')\n",
    "validation_dir = os.path.join(base_dir, 'validation')\n",
    "test_dir = os.path.join(base_dir, 'test')\n",
    "\n",
    "datagen = ImageDataGenerator(rescale=1./255)\n",
    "batch_size = 20"
   ]
  },
  {
   "cell_type": "code",
   "execution_count": 14,
   "metadata": {
    "ExecuteTime": {
     "end_time": "2019-02-03T12:10:11.993018Z",
     "start_time": "2019-02-03T12:10:11.985017Z"
    }
   },
   "outputs": [],
   "source": [
    "def extract_features(directory, sample_count):\n",
    "    features = np.zeros(shape=(sample_count, 4, 4, 512))\n",
    "    labels = np.zeros(shape=(sample_count))\n",
    "    generator = datagen.flow_from_directory(directory, target_size=(150, 150), batch_size=batch_size, class_mode='binary')\n",
    "    \n",
    "    i = 0\n",
    "    for inputs_batch, labels_batch in generator:\n",
    "        features_batch = conv_base.predict(inputs_batch)\n",
    "        features[i * batch_size:(i +1) * batch_size] = features_batch\n",
    "        labels[i * batch_size:(i + 1) * batch_size] = labels_batch\n",
    "        i += 1\n",
    "        if i * batch_size >= sample_count:\n",
    "            break\n",
    "    return features, labels"
   ]
  },
  {
   "cell_type": "code",
   "execution_count": 15,
   "metadata": {
    "ExecuteTime": {
     "end_time": "2019-02-03T12:12:19.290299Z",
     "start_time": "2019-02-03T12:10:13.433100Z"
    }
   },
   "outputs": [
    {
     "name": "stdout",
     "output_type": "stream",
     "text": [
      "Found 2000 images belonging to 2 classes.\n",
      "Found 1000 images belonging to 2 classes.\n",
      "Found 1000 images belonging to 2 classes.\n"
     ]
    }
   ],
   "source": [
    "train_features, train_labels = extract_features(train_dir, 2000)\n",
    "validation_features, validation_labels = extract_features(validation_dir, 1000)\n",
    "test_features, test_labels = extract_features(test_dir, 1000)"
   ]
  },
  {
   "cell_type": "code",
   "execution_count": 16,
   "metadata": {
    "ExecuteTime": {
     "end_time": "2019-02-03T12:13:33.228528Z",
     "start_time": "2019-02-03T12:13:33.223527Z"
    }
   },
   "outputs": [],
   "source": [
    "train_features = np.reshape(train_features, (2000, 4*4*512))\n",
    "validation_features = np.reshape(validation_features, (1000, 4*4*512))\n",
    "test_features = np.reshape(test_features, (1000, 4*4*512))"
   ]
  },
  {
   "cell_type": "code",
   "execution_count": 21,
   "metadata": {
    "ExecuteTime": {
     "end_time": "2019-02-03T12:25:18.995895Z",
     "start_time": "2019-02-03T12:24:05.675702Z"
    },
    "collapsed": true
   },
   "outputs": [
    {
     "name": "stdout",
     "output_type": "stream",
     "text": [
      "Train on 2000 samples, validate on 1000 samples\n",
      "Epoch 1/30\n",
      "2000/2000 [==============================] - 3s 1ms/step - loss: 0.6057 - acc: 0.6685 - val_loss: 0.4387 - val_acc: 0.8300\n",
      "Epoch 2/30\n",
      "2000/2000 [==============================] - 2s 1ms/step - loss: 0.4216 - acc: 0.8140 - val_loss: 0.3607 - val_acc: 0.8630\n",
      "Epoch 3/30\n",
      "2000/2000 [==============================] - 2s 1ms/step - loss: 0.3561 - acc: 0.8460 - val_loss: 0.3315 - val_acc: 0.8650\n",
      "Epoch 4/30\n",
      "2000/2000 [==============================] - 2s 1ms/step - loss: 0.3129 - acc: 0.8705 - val_loss: 0.3023 - val_acc: 0.8760\n",
      "Epoch 5/30\n",
      "2000/2000 [==============================] - 2s 1ms/step - loss: 0.2900 - acc: 0.8825 - val_loss: 0.2877 - val_acc: 0.8850\n",
      "Epoch 6/30\n",
      "2000/2000 [==============================] - 2s 1ms/step - loss: 0.2686 - acc: 0.8830 - val_loss: 0.2781 - val_acc: 0.8850\n",
      "Epoch 7/30\n",
      "2000/2000 [==============================] - 2s 1ms/step - loss: 0.2439 - acc: 0.9070 - val_loss: 0.2633 - val_acc: 0.8920\n",
      "Epoch 8/30\n",
      "2000/2000 [==============================] - 2s 1ms/step - loss: 0.2247 - acc: 0.9155 - val_loss: 0.2753 - val_acc: 0.8880\n",
      "Epoch 9/30\n",
      "2000/2000 [==============================] - 2s 1ms/step - loss: 0.2186 - acc: 0.9160 - val_loss: 0.2528 - val_acc: 0.8950\n",
      "Epoch 10/30\n",
      "2000/2000 [==============================] - 2s 1ms/step - loss: 0.2119 - acc: 0.9180 - val_loss: 0.2492 - val_acc: 0.8950\n",
      "Epoch 11/30\n",
      "2000/2000 [==============================] - 2s 1ms/step - loss: 0.1987 - acc: 0.9270 - val_loss: 0.2496 - val_acc: 0.9020\n",
      "Epoch 12/30\n",
      "2000/2000 [==============================] - 2s 1ms/step - loss: 0.1867 - acc: 0.9295 - val_loss: 0.2448 - val_acc: 0.8990\n",
      "Epoch 13/30\n",
      "2000/2000 [==============================] - 2s 1ms/step - loss: 0.1733 - acc: 0.9400 - val_loss: 0.2430 - val_acc: 0.9000\n",
      "Epoch 14/30\n",
      "2000/2000 [==============================] - 2s 1ms/step - loss: 0.1671 - acc: 0.9440 - val_loss: 0.2388 - val_acc: 0.9040\n",
      "Epoch 15/30\n",
      "2000/2000 [==============================] - 3s 2ms/step - loss: 0.1605 - acc: 0.9450 - val_loss: 0.2374 - val_acc: 0.9040\n",
      "Epoch 16/30\n",
      "2000/2000 [==============================] - 3s 1ms/step - loss: 0.1549 - acc: 0.9465 - val_loss: 0.2365 - val_acc: 0.9050\n",
      "Epoch 17/30\n",
      "2000/2000 [==============================] - 3s 1ms/step - loss: 0.1491 - acc: 0.9515 - val_loss: 0.2364 - val_acc: 0.9030\n",
      "Epoch 18/30\n",
      "2000/2000 [==============================] - 2s 1ms/step - loss: 0.1465 - acc: 0.9470 - val_loss: 0.2553 - val_acc: 0.8970\n",
      "Epoch 19/30\n",
      "2000/2000 [==============================] - 2s 1ms/step - loss: 0.1382 - acc: 0.9475 - val_loss: 0.2437 - val_acc: 0.8970\n",
      "Epoch 20/30\n",
      "2000/2000 [==============================] - 2s 1ms/step - loss: 0.1307 - acc: 0.9590 - val_loss: 0.2378 - val_acc: 0.9010\n",
      "Epoch 21/30\n",
      "2000/2000 [==============================] - 2s 1ms/step - loss: 0.1233 - acc: 0.9570 - val_loss: 0.2350 - val_acc: 0.9000\n",
      "Epoch 22/30\n",
      "2000/2000 [==============================] - 2s 1ms/step - loss: 0.1205 - acc: 0.9555 - val_loss: 0.2407 - val_acc: 0.9000\n",
      "Epoch 23/30\n",
      "2000/2000 [==============================] - 2s 1ms/step - loss: 0.1162 - acc: 0.9595 - val_loss: 0.2379 - val_acc: 0.9020\n",
      "Epoch 24/30\n",
      "2000/2000 [==============================] - 3s 1ms/step - loss: 0.1131 - acc: 0.9635 - val_loss: 0.2462 - val_acc: 0.8990\n",
      "Epoch 25/30\n",
      "2000/2000 [==============================] - 2s 1ms/step - loss: 0.1097 - acc: 0.9625 - val_loss: 0.2443 - val_acc: 0.8980\n",
      "Epoch 26/30\n",
      "2000/2000 [==============================] - 2s 1ms/step - loss: 0.1003 - acc: 0.9680 - val_loss: 0.2382 - val_acc: 0.9010\n",
      "Epoch 27/30\n",
      "2000/2000 [==============================] - 2s 1ms/step - loss: 0.0981 - acc: 0.9690 - val_loss: 0.2378 - val_acc: 0.9030\n",
      "Epoch 28/30\n",
      "2000/2000 [==============================] - 2s 1ms/step - loss: 0.0961 - acc: 0.9715 - val_loss: 0.2403 - val_acc: 0.9000\n",
      "Epoch 29/30\n",
      "2000/2000 [==============================] - 2s 1ms/step - loss: 0.0928 - acc: 0.9710 - val_loss: 0.2396 - val_acc: 0.9000\n",
      "Epoch 30/30\n",
      "2000/2000 [==============================] - 2s 1ms/step - loss: 0.0891 - acc: 0.9725 - val_loss: 0.2407 - val_acc: 0.9010\n"
     ]
    }
   ],
   "source": [
    "# 定义并训练密集连接分类器\n",
    "from keras import models\n",
    "from keras import layers\n",
    "from keras import optimizers\n",
    "\n",
    "model = models.Sequential()\n",
    "model.add(layers.Dense(256, activation='relu', input_dim=4*4*512))\n",
    "model.add(layers.Dropout(0.5))\n",
    "model.add(layers.Dense(1, activation='sigmoid'))\n",
    "\n",
    "model.compile(optimizer=optimizers.RMSprop(lr=2e-5), loss='binary_crossentropy', metrics=['acc'])\n",
    "\n",
    "history = model.fit(train_features, train_labels, epochs=30, batch_size=20, validation_data=(validation_features, validation_labels))"
   ]
  },
  {
   "cell_type": "code",
   "execution_count": 24,
   "metadata": {
    "ExecuteTime": {
     "end_time": "2019-02-03T12:30:38.221154Z",
     "start_time": "2019-02-03T12:30:37.814131Z"
    }
   },
   "outputs": [
    {
     "data": {
      "image/png": "[encoded data removed]",
      "text/plain": [
       "<Figure size 432x288 with 1 Axes>"
      ]
     },
     "metadata": {},
     "output_type": "display_data"
    },
    {
     "data": {
      "image/png": "[encoded data removed]",
      "text/plain": [
       "<Figure size 432x288 with 1 Axes>"
      ]
     },
     "metadata": {},
     "output_type": "display_data"
    }
   ],
   "source": [
    "import matplotlib.pyplot as plt\n",
    "\n",
    "acc = history.history['acc']\n",
    "val_acc = history.history['val_acc']\n",
    "loss = history.history['loss']\n",
    "val_loss = history.history['val_loss']\n",
    "\n",
    "epochs = range(1, len(acc) +1)\n",
    "\n",
    "plt.plot(epochs, acc, 'bo', label='Training acc')\n",
    "plt.plot(epochs, val_acc, 'b', label='Validation acc')\n",
    "plt.title('Training and validation accuracy')\n",
    "plt.legend()\n",
    "\n",
    "plt.figure()\n",
    "\n",
    "plt.plot(epochs, loss, 'bo', label='Training loss')\n",
    "plt.plot(epochs, val_loss, 'b', label='Validation loss')\n",
    "plt.title('Training and validation loss')\n",
    "plt.legend()\n",
    "\n",
    "plt.show()"
   ]
  },
  {
   "cell_type": "markdown",
   "metadata": {},
   "source": [
    "# 使用数据增强的特征提取"
   ]
  },
  {
   "cell_type": "code",
   "execution_count": 26,
   "metadata": {
    "ExecuteTime": {
     "end_time": "2019-02-03T12:34:02.328828Z",
     "start_time": "2019-02-03T12:34:02.136817Z"
    }
   },
   "outputs": [
    {
     "name": "stdout",
     "output_type": "stream",
     "text": [
      "_________________________________________________________________\n",
      "Layer (type)                 Output Shape              Param #   \n",
      "=================================================================\n",
      "vgg16 (Model)                (None, 4, 4, 512)         14714688  \n",
      "_________________________________________________________________\n",
      "flatten_1 (Flatten)          (None, 8192)              0         \n",
      "_________________________________________________________________\n",
      "dense_5 (Dense)              (None, 256)               2097408   \n",
      "_________________________________________________________________\n",
      "dense_6 (Dense)              (None, 1)                 257       \n",
      "=================================================================\n",
      "Total params: 16,812,353\n",
      "Trainable params: 16,812,353\n",
      "Non-trainable params: 0\n",
      "_________________________________________________________________\n"
     ]
    }
   ],
   "source": [
    "from keras import models\n",
    "from keras import layers\n",
    "\n",
    "model = models.Sequential()\n",
    "model.add(conv_base)\n",
    "model.add(layers.Flatten())\n",
    "model.add(layers.Dense(256, activation='relu'))\n",
    "model.add(layers.Dense(1, activation='sigmoid'))\n",
    "\n",
    "model.summary()"
   ]
  },
  {
   "cell_type": "code",
   "execution_count": 27,
   "metadata": {
    "ExecuteTime": {
     "end_time": "2019-02-03T12:39:02.235982Z",
     "start_time": "2019-02-03T12:39:02.228981Z"
    }
   },
   "outputs": [
    {
     "name": "stdout",
     "output_type": "stream",
     "text": [
      "This is the number of trainable weghts before freezing the conv base:  30\n",
      "This is the number of trainable weights: 4\n"
     ]
    }
   ],
   "source": [
    "print('This is the number of trainable weghts before freezing the conv base: ', len(model.trainable_weights))\n",
    "conv_base.trainable = False # 设置 freezing 训练是该网络参数不会改变,如此设置完以后只有Dense层的参数会改变\n",
    "print('This is the number of trainable weights:', len(model.trainable_weights))"
   ]
  },
  {
   "cell_type": "code",
   "execution_count": 30,
   "metadata": {
    "ExecuteTime": {
     "end_time": "2019-02-03T13:17:14.281079Z",
     "start_time": "2019-02-03T12:49:33.734102Z"
    }
   },
   "outputs": [
    {
     "name": "stdout",
     "output_type": "stream",
     "text": [
      "Found 2000 images belonging to 2 classes.\n",
      "Found 1000 images belonging to 2 classes.\n",
      "Epoch 1/15\n",
      "200/200 [==============================] - 74s 370ms/step - loss: 0.5405 - acc: 0.7313 - val_loss: 0.3822 - val_acc: 0.8480\n",
      "Epoch 2/15\n",
      "200/200 [==============================] - 72s 360ms/step - loss: 0.4273 - acc: 0.8065 - val_loss: 0.3076 - val_acc: 0.8800\n",
      "Epoch 3/15\n",
      "200/200 [==============================] - 72s 362ms/step - loss: 0.3869 - acc: 0.8300 - val_loss: 0.2821 - val_acc: 0.8870\n",
      "Epoch 4/15\n",
      "200/200 [==============================] - 81s 404ms/step - loss: 0.3665 - acc: 0.8383 - val_loss: 0.2713 - val_acc: 0.8860\n",
      "Epoch 5/15\n",
      "200/200 [==============================] - 89s 446ms/step - loss: 0.3509 - acc: 0.8448 - val_loss: 0.2784 - val_acc: 0.8880\n",
      "Epoch 6/15\n",
      "200/200 [==============================] - 101s 505ms/step - loss: 0.3416 - acc: 0.8508 - val_loss: 0.2601 - val_acc: 0.8890\n",
      "Epoch 7/15\n",
      "200/200 [==============================] - 111s 556ms/step - loss: 0.3341 - acc: 0.8560 - val_loss: 0.2543 - val_acc: 0.8910\n",
      "Epoch 8/15\n",
      "200/200 [==============================] - 116s 579ms/step - loss: 0.3286 - acc: 0.8567 - val_loss: 0.2543 - val_acc: 0.8980\n",
      "Epoch 9/15\n",
      "200/200 [==============================] - 120s 601ms/step - loss: 0.3168 - acc: 0.8645 - val_loss: 0.2528 - val_acc: 0.8960\n",
      "Epoch 10/15\n",
      "200/200 [==============================] - 123s 615ms/step - loss: 0.3131 - acc: 0.8692 - val_loss: 0.2550 - val_acc: 0.8950\n",
      "Epoch 11/15\n",
      "200/200 [==============================] - 125s 625ms/step - loss: 0.2987 - acc: 0.8750 - val_loss: 0.2492 - val_acc: 0.9030\n",
      "Epoch 12/15\n",
      "200/200 [==============================] - 123s 617ms/step - loss: 0.2925 - acc: 0.8750 - val_loss: 0.2493 - val_acc: 0.9000\n",
      "Epoch 13/15\n",
      "200/200 [==============================] - 129s 645ms/step - loss: 0.2939 - acc: 0.8752 - val_loss: 0.2476 - val_acc: 0.9010\n",
      "Epoch 14/15\n",
      "200/200 [==============================] - 161s 806ms/step - loss: 0.3020 - acc: 0.8730 - val_loss: 0.2469 - val_acc: 0.9000\n",
      "Epoch 15/15\n",
      "200/200 [==============================] - 161s 805ms/step - loss: 0.2945 - acc: 0.8738 - val_loss: 0.2461 - val_acc: 0.9030\n"
     ]
    }
   ],
   "source": [
    "# 利用冻结的卷积基端到端地训练模型\n",
    "from keras.preprocessing.image import ImageDataGenerator\n",
    "from keras import optimizers\n",
    "\n",
    "train_datagen = ImageDataGenerator(rescale=1./255, \n",
    "                                   rotation_range=40, \n",
    "                                   width_shift_range=0.2, \n",
    "                                   height_shift_range=0.2, \n",
    "                                   shear_range=0.2, \n",
    "                                   zoom_range=0.2, \n",
    "                                   horizontal_flip=True, \n",
    "                                   fill_mode='nearest')\n",
    "\n",
    "test_datagen = ImageDataGenerator(rescale=1./255) # 验证数据不可以增强\n",
    "\n",
    "train_generator = train_datagen.flow_from_directory(train_dir, target_size=(150, 150), batch_size=20, class_mode='binary')\n",
    "validation_generator = test_datagen.flow_from_directory(validation_dir, target_size=(150, 150), batch_size=20, class_mode='binary')\n",
    "\n",
    "model.compile(loss='binary_crossentropy', optimizer=optimizers.RMSprop(lr=2e-5), metrics=['acc'])\n",
    "\n",
    "history = model.fit_generator(train_generator, steps_per_epoch=200, epochs=15, validation_data=validation_generator, validation_steps=100)"
   ]
  },
  {
   "cell_type": "code",
   "execution_count": 31,
   "metadata": {
    "ExecuteTime": {
     "end_time": "2019-02-03T13:20:11.065191Z",
     "start_time": "2019-02-03T13:20:10.635166Z"
    }
   },
   "outputs": [
    {
     "data": {
      "image/png": "[encoded data removed]",
      "text/plain": [
       "<Figure size 432x288 with 1 Axes>"
      ]
     },
     "metadata": {},
     "output_type": "display_data"
    },
    {
     "data": {
      "image/png": "[encoded data removed]",
      "text/plain": [
       "<Figure size 432x288 with 1 Axes>"
      ]
     },
     "metadata": {},
     "output_type": "display_data"
    }
   ],
   "source": [
    "import matplotlib.pyplot as plt\n",
    "\n",
    "acc = history.history['acc']\n",
    "val_acc = history.history['val_acc']\n",
    "loss = history.history['loss']\n",
    "val_loss = history.history['val_loss']\n",
    "\n",
    "epochs = range(1, len(acc) +1)\n",
    "\n",
    "plt.plot(epochs, acc, 'bo', label='Training acc')\n",
    "plt.plot(epochs, val_acc, 'b', label='Validation acc')\n",
    "plt.title('Training and validation accuracy')\n",
    "plt.legend()\n",
    "\n",
    "plt.figure()\n",
    "\n",
    "plt.plot(epochs, loss, 'bo', label='Training loss')\n",
    "plt.plot(epochs, val_loss, 'b', label='Validation loss')\n",
    "plt.title('Training and validation loss')\n",
    "plt.legend()\n",
    "\n",
    "plt.show()"
   ]
  },
  {
   "cell_type": "markdown",
   "metadata": {},
   "source": [
    "# 模型微调 "
   ]
  },
  {
   "cell_type": "code",
   "execution_count": 32,
   "metadata": {
    "ExecuteTime": {
     "end_time": "2019-02-03T13:22:12.997165Z",
     "start_time": "2019-02-03T13:22:12.988164Z"
    }
   },
   "outputs": [
    {
     "name": "stdout",
     "output_type": "stream",
     "text": [
      "_________________________________________________________________\n",
      "Layer (type)                 Output Shape              Param #   \n",
      "=================================================================\n",
      "input_1 (InputLayer)         (None, 150, 150, 3)       0         \n",
      "_________________________________________________________________\n",
      "block1_conv1 (Conv2D)        (None, 150, 150, 64)      1792      \n",
      "_________________________________________________________________\n",
      "block1_conv2 (Conv2D)        (None, 150, 150, 64)      36928     \n",
      "_________________________________________________________________\n",
      "block1_pool (MaxPooling2D)   (None, 75, 75, 64)        0         \n",
      "_________________________________________________________________\n",
      "block2_conv1 (Conv2D)        (None, 75, 75, 128)       73856     \n",
      "_________________________________________________________________\n",
      "block2_conv2 (Conv2D)        (None, 75, 75, 128)       147584    \n",
      "_________________________________________________________________\n",
      "block2_pool (MaxPooling2D)   (None, 37, 37, 128)       0         \n",
      "_________________________________________________________________\n",
      "block3_conv1 (Conv2D)        (None, 37, 37, 256)       295168    \n",
      "_________________________________________________________________\n",
      "block3_conv2 (Conv2D)        (None, 37, 37, 256)       590080    \n",
      "_________________________________________________________________\n",
      "block3_conv3 (Conv2D)        (None, 37, 37, 256)       590080    \n",
      "_________________________________________________________________\n",
      "block3_pool (MaxPooling2D)   (None, 18, 18, 256)       0         \n",
      "_________________________________________________________________\n",
      "block4_conv1 (Conv2D)        (None, 18, 18, 512)       1180160   \n",
      "_________________________________________________________________\n",
      "block4_conv2 (Conv2D)        (None, 18, 18, 512)       2359808   \n",
      "_________________________________________________________________\n",
      "block4_conv3 (Conv2D)        (None, 18, 18, 512)       2359808   \n",
      "_________________________________________________________________\n",
      "block4_pool (MaxPooling2D)   (None, 9, 9, 512)         0         \n",
      "_________________________________________________________________\n",
      "block5_conv1 (Conv2D)        (None, 9, 9, 512)         2359808   \n",
      "_________________________________________________________________\n",
      "block5_conv2 (Conv2D)        (None, 9, 9, 512)         2359808   \n",
      "_________________________________________________________________\n",
      "block5_conv3 (Conv2D)        (None, 9, 9, 512)         2359808   \n",
      "_________________________________________________________________\n",
      "block5_pool (MaxPooling2D)   (None, 4, 4, 512)         0         \n",
      "=================================================================\n",
      "Total params: 14,714,688\n",
      "Trainable params: 0\n",
      "Non-trainable params: 14,714,688\n",
      "_________________________________________________________________\n"
     ]
    }
   ],
   "source": [
    "conv_base.summary()"
   ]
  },
  {
   "cell_type": "code",
   "execution_count": 33,
   "metadata": {
    "ExecuteTime": {
     "end_time": "2019-02-03T13:26:46.120787Z",
     "start_time": "2019-02-03T13:26:46.111786Z"
    }
   },
   "outputs": [],
   "source": [
    "conv_base.trainable = True\n",
    "\n",
    "set_trainable = False\n",
    "for layer in conv_base.layers:\n",
    "    if layer.name == 'block5_conv_1':\n",
    "        set_trainable = True\n",
    "    if set_trainable:\n",
    "        set_trainable = True\n",
    "    else:\n",
    "        layer.trainable = False"
   ]
  },
  {
   "cell_type": "code",
   "execution_count": 35,
   "metadata": {
    "ExecuteTime": {
     "end_time": "2019-02-03T13:48:54.467764Z",
     "start_time": "2019-02-03T13:29:59.524849Z"
    }
   },
   "outputs": [
    {
     "name": "stdout",
     "output_type": "stream",
     "text": [
      "Epoch 1/10\n",
      "200/200 [==============================] - 72s 359ms/step - loss: 0.2861 - acc: 0.8785 - val_loss: 0.2456 - val_acc: 0.9000\n",
      "Epoch 2/10\n",
      "200/200 [==============================] - 76s 382ms/step - loss: 0.2827 - acc: 0.8775 - val_loss: 0.2466 - val_acc: 0.8960\n",
      "Epoch 3/10\n",
      "200/200 [==============================] - 86s 430ms/step - loss: 0.2909 - acc: 0.8755 - val_loss: 0.2467 - val_acc: 0.9040\n",
      "Epoch 4/10\n",
      "200/200 [==============================] - 98s 492ms/step - loss: 0.2835 - acc: 0.8802 - val_loss: 0.2483 - val_acc: 0.9030\n",
      "Epoch 5/10\n",
      "200/200 [==============================] - 108s 541ms/step - loss: 0.2826 - acc: 0.8782 - val_loss: 0.2472 - val_acc: 0.9060\n",
      "Epoch 6/10\n",
      "200/200 [==============================] - 115s 574ms/step - loss: 0.2775 - acc: 0.8835 - val_loss: 0.2473 - val_acc: 0.9040\n",
      "Epoch 7/10\n",
      "200/200 [==============================] - 123s 616ms/step - loss: 0.2784 - acc: 0.8832 - val_loss: 0.2495 - val_acc: 0.9000\n",
      "Epoch 8/10\n",
      "200/200 [==============================] - 134s 668ms/step - loss: 0.2724 - acc: 0.8875 - val_loss: 0.2498 - val_acc: 0.9040\n",
      "Epoch 9/10\n",
      "200/200 [==============================] - 161s 805ms/step - loss: 0.2756 - acc: 0.8862 - val_loss: 0.2460 - val_acc: 0.9000\n",
      "Epoch 10/10\n",
      "200/200 [==============================] - 161s 805ms/step - loss: 0.2818 - acc: 0.8815 - val_loss: 0.2455 - val_acc: 0.9030\n"
     ]
    }
   ],
   "source": [
    "model.compile(loss='binary_crossentropy', optimizer=optimizers.RMSprop(lr=1e-5), metrics=['acc'])\n",
    "\n",
    "history = model.fit_generator(train_generator, steps_per_epoch=200, epochs=10, validation_data=validation_generator, validation_steps=100)"
   ]
  },
  {
   "cell_type": "code",
   "execution_count": 36,
   "metadata": {
    "ExecuteTime": {
     "end_time": "2019-02-03T13:49:26.967623Z",
     "start_time": "2019-02-03T13:49:26.585601Z"
    }
   },
   "outputs": [
    {
     "data": {
      "image/png": "[encoded data removed]",
      "text/plain": [
       "<Figure size 432x288 with 1 Axes>"
      ]
     },
     "metadata": {},
     "output_type": "display_data"
    },
    {
     "data": {
      "image/png": "[encoded data removed]",
      "text/plain": [
       "<Figure size 432x288 with 1 Axes>"
      ]
     },
     "metadata": {},
     "output_type": "display_data"
    }
   ],
   "source": [
    "import matplotlib.pyplot as plt\n",
    "\n",
    "acc = history.history['acc']\n",
    "val_acc = history.history['val_acc']\n",
    "loss = history.history['loss']\n",
    "val_loss = history.history['val_loss']\n",
    "\n",
    "epochs = range(1, len(acc) +1)\n",
    "\n",
    "plt.plot(epochs, acc, 'bo', label='Training acc')\n",
    "plt.plot(epochs, val_acc, 'b', label='Validation acc')\n",
    "plt.title('Training and validation accuracy')\n",
    "plt.legend()\n",
    "\n",
    "plt.figure()\n",
    "\n",
    "plt.plot(epochs, loss, 'bo', label='Training loss')\n",
    "plt.plot(epochs, val_loss, 'b', label='Validation loss')\n",
    "plt.title('Training and validation loss')\n",
    "plt.legend()\n",
    "\n",
    "plt.show()"
   ]
  },
  {
   "cell_type": "code",
   "execution_count": null,
   "metadata": {},
   "outputs": [],
   "source": []
  }
 ],
 "metadata": {
  "kernelspec": {
   "display_name": "Python 3",
   "language": "python",
   "name": "python3"
  },
  "language_info": {
   "codemirror_mode": {
    "name": "ipython",
    "version": 3
   },
   "file_extension": ".py",
   "mimetype": "text/x-python",
   "name": "python",
   "nbconvert_exporter": "python",
   "pygments_lexer": "ipython3",
   "version": "3.6.5"
  },
  "toc": {
   "base_numbering": 1,
   "nav_menu": {},
   "number_sections": true,
   "sideBar": true,
   "skip_h1_title": false,
   "title_cell": "Table of Contents",
   "title_sidebar": "Contents",
   "toc_cell": false,
   "toc_position": {},
   "toc_section_display": true,
   "toc_window_display": false
  },
  "varInspector": {
   "cols": {
    "lenName": 16,
    "lenType": 16,
    "lenVar": 40
   },
   "kernels_config": {
    "python": {
     "delete_cmd_postfix": "",
     "delete_cmd_prefix": "del ",
     "library": "var_list.py",
     "varRefreshCmd": "print(var_dic_list())"
    },
    "r": {
     "delete_cmd_postfix": ") ",
     "delete_cmd_prefix": "rm(",
     "library": "var_list.r",
     "varRefreshCmd": "cat(var_dic_list()) "
    }
   },
   "types_to_exclude": [
    "module",
    "function",
    "builtin_function_or_method",
    "instance",
    "_Feature"
   ],
   "window_display": false
  }
 },
 "nbformat": 4,
 "nbformat_minor": 2
}
